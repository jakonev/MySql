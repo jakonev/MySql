{
  "metadata": {
    "kernelspec": {
      "name": "SQLite",
      "display_name": "SQLite",
      "language": "sql"
    },
    "language_info": {
      "codemirror_mode": "sql",
      "file_extension": "",
      "mimetype": "",
      "name": "sql",
      "version": "3.32.3"
    }
  },
  "nbformat_minor": 4,
  "nbformat": 4,
  "cells": [
    {
      "cell_type": "code",
      "source": "%create OnlineRetail.db",
      "metadata": {
        "trusted": true
      },
      "outputs": [],
      "execution_count": 1
    },
    {
      "cell_type": "code",
      "source": "CREATE TABLE clientes (\n  id_cliente INT NOT NULL,\n  nome VARCHAR(45) NULL,\n  cidade VARCHAR(45) NULL\n  );\n  \nINSERT INTO clientes VALUES \n(1001,'Adriana','SP'),\n(1002,'Maria','MG'),\n(1002,'Maria','MG'),\n(1006,'Beatriz','SC'),\n(1006,'Beatriz','SC'),\n(1006,'Beatriz','SC'),\n(1007,'Carolina','SP'),\n(1008,'Mariana','MG'),\n(1008,'Mariana','MG'),\n(1009,'Josefa','MG'),\n(1009,'Josefa','MG'),\n(1009,'Josefa','MG');",
      "metadata": {
        "trusted": true
      },
      "outputs": [],
      "execution_count": 5
    },
    {
      "cell_type": "code",
      "source": "CREATE TABLE pedidos (\n  `id_pedido` INT NOT NULL,\n  `id_cliente` VARCHAR(45) NULL,\n  `data_pedido` DATE NULL,\n  `total_pedido` INT NULL,\n  PRIMARY KEY (`id_pedido`));",
      "metadata": {
        "trusted": true
      },
      "outputs": [],
      "execution_count": 6
    },
    {
      "cell_type": "code",
      "source": "INSERT INTO pedidos values\n(9999,1002,'2022-07-11',11),\n(9998,1002,'2022-07-11',11),\n(9997,1002,'2024-04-15',10),\n(9996,1006,'2023-08-1',6),\n(9995,1006,'2022-08-16',1),\n(9994,1006,'2023-11-1',13),\n(9993,1007,'2023-01-28',2),\n(9992,1008,'2023-03-16',14),\n(9991,1008,'2023-03-27',12),\n(9990,1009,'2023-01-8',3),\n(9989,1009,'2022-10-15',9),\n(9988,1009,'2023-01-27',11),\n(9987,1001,'2023-09-13',8),\n(9986,1002,'2023-05-26',9),\n(9985,1002,'2023-10-1',8),\n(9984,1006,'2023-11-27',5),\n(9983,1006,'2023-10-10',5),\n(9982,1006,'2022-08-16',10),\n(9981,1007,'2023-07-14',2),\n(9980,1008,'2022-11-8',6),\n(9979,1001,'2023-02-23',9),\n(9978,1002,'2023-11-14',12),\n(9977,1002,'2022-10-22',1),\n(9976,1006,'2023-06-8',9),\n(9975,1006,'2023-07-17',4),\n(9974,1006,'2022-09-17',2),\n(9973,1007,'2023-11-5',11),\n(9972,1008,'2023-12-15',13),\n(9971,1008,'2023-09-1',13),\n(9970,1009,'2023-05-5',1),\n(9969,1009,'2023-02-20',1),\n(9968,1009,'2022-08-24',13),\n(9967,1001,'2023-06-4',7),\n(9966,1002,'2023-01-30',1),\n(9965,1002,'2022-10-25',14),\n(9964,1006,'2023-06-9',13),\n(9963,1006,'2022-05-18',5),\n(9962,1006,'2024-03-24',11),\n(9961,1007,'2022-07-9',4),\n(9960,1008,'2023-12-20',3),\n(9959,1008,'2024-01-15',1),\n(9958,1009,'2023-10-31',1),\n(9957,1009,'2022-09-15',6),\n(9956,1009,'2022-05-11',13);",
      "metadata": {
        "trusted": true
      },
      "outputs": [],
      "execution_count": 7
    },
    {
      "cell_type": "code",
      "source": "CREATE TABLE produtos (\n  `id_produto` INT NOT NULL,\n  `nome` VARCHAR(45) NULL,\n  `categoria` VARCHAR(45) NULL,\n  PRIMARY KEY (`id_produto`));\nALTER TABLE `fast_shop`.`produtos` \nCHANGE COLUMN `categoria` `categoria` INT NULL DEFAULT NULL ,\nDROP PRIMARY KEY;\n;",
      "metadata": {
        "trusted": true
      },
      "outputs": [],
      "execution_count": 12
    },
    {
      "cell_type": "code",
      "source": "insert into produtos values\n(1,'Esmaltes',99),\n(2,'Maquiagens',99),\n(3,'Xampus',99),\n(4,'Cremes hidratantes',99),\n(5,'Perfumes',99),\n(6,'Desodorantes',99);",
      "metadata": {
        "trusted": true
      },
      "outputs": [],
      "execution_count": 15
    },
    {
      "cell_type": "code",
      "source": "insert into produtos values\n(7,'Sabonetes',99),\n(8,'Loções para barba',99),\n(9,'Demaquilantes',99),\n(10,'Peixes e Aves',98);",
      "metadata": {
        "trusted": true
      },
      "outputs": [],
      "execution_count": 17
    },
    {
      "cell_type": "code",
      "source": "insert into produtos values \n(11,'Destilados',98),\n(12,'Sucos',98),\n(13,'Refrigerantes',98),\n(14,'Congelados',98),\n(15,'Cadeiras Escritorio',97),\n(16,'Mesa Cozinha',97),\n(17,'Mesa Sala',97),\n(18,'Estante',97),\n(19,'Sofa',97),\n(20,'Vitaminas',96);",
      "metadata": {
        "trusted": true
      },
      "outputs": [],
      "execution_count": 20
    },
    {
      "cell_type": "code",
      "source": "insert into produtos values \n(21,'Suplementos',96),\n(22,'Panelas',95),\n(23,'Panelas Eletricas',95),\n(24,'Batedeiras',95),\n(25,'copos',95),\n(26,'Netflix',94),\n(27,'Xbox Games',94),\n(28,' spotify',94),\n(29,'Vale Presente',94),\n(30,'Racao',93),\n(31,'Cama',93),\n(32,'Roupa Curta',93),\n(33,'roupa longa',93),\n(34,'Casa para Dog',93),\n(35,'Coleira',93),\n(36,'Brinquedos Pets',93),\n(37,'Impressora',92),\n(38,'Notebook',92),\n(39,'Mouse',92),\n(40,'Teclado',92),\n(41,'Cadeira Gamer',92);",
      "metadata": {
        "trusted": true
      },
      "outputs": [],
      "execution_count": 26
    },
    {
      "cell_type": "code",
      "source": "CREATE TABLE itens_pedido (\n  id_pedido INT NOT NULL,\n  id_produto VARCHAR(45) NULL,\n  quantidade INT NULL,\n  preço_unitário DECIMAL(2) NULL);",
      "metadata": {
        "trusted": true
      },
      "outputs": [],
      "execution_count": 52
    },
    {
      "cell_type": "code",
      "source": "insert into itens_pedido values\n(9980,30,1,58.44),\n(9997,35,4,393.14),\n(9983,34,2,436.55),\n(9971,11,6,129.52),\n(9961,16,6,207.51),\n(9965,9,6,393.53),\n(9990,24,7,491.30),\n(9997,21,3,260.31),\n(9999,19,2,491.11),\n(9957,41,1,181.26),\n(9991,10,7,300.44),\n(9978,25,5,470.45),\n(9986,10,3,105.51),\n(9960,8,6,354.34),\n(9985,8,3,77.40),\n(9981,19,7,241.57),\n(9999,23,2,65.24),\n(9957,38,4,315.23),\n(9960,32,1,321.20),\n(9973,19,6,142.60),\n(9985,1,2,365.43),\n(9963,28,6,127.59),\n(9956,1,5,469.18),\n(9968,13,5,416.21),\n(9991,13,3,125.42),\n(9961,33,2,168.11),\n(9972,20,3,218.40),\n(9983,35,2,300.51),\n(9990,8,2,248.39),\n(9974,1,1,131.33),\n(9994,2,4,164.25),\n(9998,38,6,443.20),\n(9984,15,1,299.36),\n(9972,13,7,407.37),\n(9982,38,7,281.40),\n(9981,6,5,189.31),\n(9962,17,4,331.57),\n(9981,29,3,276.42),\n(9967,38,7,239.25),\n(9961,9,2,287.28),\n(9995,37,6,401.29),\n(9988,36,5,297.38),\n(9970,5,4,135.12),\n(9992,7,3,215.43),\n(9998,40,6,172.51),\n(9966,6,6,160.52),\n(9982,36,3,286.20),\n(9965,23,4,137.28),\n(9984,10,2,330.16),\n(9971,5,7,185.24),\n(9984,38,4,220.52),\n(9989,20,3,263.40),\n(9983,33,5,145.24),\n(9982,12,3,60.38),\n(9994,17,6,479.46),\n(9982,7,1,437.39),\n(9973,10,2,237.15),\n(9967,22,3,306.55),\n(9980,1,6,414.58),\n(9975,32,6,295.30),\n(9984,33,4,180.38),\n(9982,13,6,156.56),\n(9985,31,5,457.36),\n(9960,29,4,146.60),\n(9963,32,5,427.34),\n(9976,17,5,300.31),\n(9977,8,2,273.38),\n(9966,26,5,490.34),\n(9990,31,7,475.46),\n(9995,37,1,420.19),\n(9996,6,1,410.54),\n(9972,18,3,139.31),\n(9967,9,7,423.24),\n(9990,9,3,95.19),\n(9975,7,3,321.55),\n(9971,29,4,161.47),\n(9976,12,1,413.56),\n(9989,9,3,327.18),\n(9969,36,7,207.12),\n(9956,26,7,309.27),\n(9996,20,3,285.59),\n(9979,36,5,109.31),\n(9970,28,4,286.13),\n(9995,15,1,396.29),\n(9998,34,6,426.58),\n(9974,5,5,120.40),\n(9979,35,1,382.46),\n(9987,4,1,115.53),\n(9983,16,4,413.24),\n(9991,20,5,182.59),\n(9962,16,1,270.57),\n(9992,17,6,74.50),\n(9959,4,1,323.16),\n(9957,17,1,359.48),\n(9989,10,4,440.27),\n(9982,15,6,414.33),\n(9990,6,3,331.49),\n(9966,37,2,336.35),\n(9976,31,1,446.39),\n(9990,1,4,302.32),\n(9994,26,2,232.60),\n(9976,35,6,285.33),\n(9994,4,1,448.57),\n(9996,24,4,273.39),\n(9971,13,7,493.55),\n(9982,24,6,440.60),\n(9956,6,7,304.13),\n(9979,27,3,212.58),\n(9958,30,7,56.33),\n(9980,32,2,275.32),\n(9994,21,1,165.52),\n(9996,31,3,247.12),\n(9965,18,1,227.13),\n(9970,40,1,75.47),\n(9988,25,6,449.52),\n(9967,30,7,426.19),\n(9987,41,3,412.53),\n(9998,13,7,399.22),\n(9974,16,1,155.12),\n(9974,19,3,99.32),\n(9984,17,2,164.53),\n(9981,38,3,486.40),\n(9970,10,1,307.54),\n(9972,21,6,470.50),\n(9977,40,7,180.58),\n(9959,29,1,76.55),\n(9965,3,1,271.50),\n(9975,2,7,84.21),\n(9991,14,6,299.51),\n(9989,32,7,494.28),\n(9962,9,7,448.40),\n(9996,13,1,189.34),\n(9993,11,7,339.39),\n(9960,17,4,415.22),\n(9969,16,5,177.48),\n(9983,14,1,184.30),\n(9992,10,5,387.47),\n(9995,9,4,434.13),\n(9968,7,7,171.33),\n(9982,1,2,274.40),\n(9971,5,2,434.40),\n(9974,41,1,352.54),\n(9981,23,1,98.55),\n(9972,21,2,327.27),\n(9999,8,3,268.30),\n(9997,25,6,450.45),\n(9978,27,1,334.44),\n(9967,40,7,417.21),\n(9986,31,4,311.59),\n(9962,27,3,428.40),\n(9979,22,4,166.20),\n(9992,14,3,359.21),\n(9982,26,2,57.38),\n(9966,24,1,143.45),\n(9967,35,6,303.14),\n(9957,35,6,165.23),\n(9961,8,7,316.11),\n(9987,14,6,241.38),\n(9982,36,7,412.18),\n(9999,13,6,418.48);",
      "metadata": {
        "trusted": true
      },
      "outputs": [],
      "execution_count": 53
    },
    {
      "cell_type": "code",
      "source": "CREATE TABLE categorias (\n  `id_categoria` INT NOT NULL,\n  `nome` VARCHAR(45) NULL,\n  PRIMARY KEY (`id_categoria`));",
      "metadata": {
        "trusted": true
      },
      "outputs": [],
      "execution_count": 55
    },
    {
      "cell_type": "code",
      "source": "insert into categorias values \n(99, 'perfumaria_cosmeticos'),\n(98, 'alimentos_bebidas'),\n(97,  'casa_decoracao'),\n(96, 'saude_bem-estar'),\n(95, 'utensilios_domesticos'),\n(94, 'midia'),\n(93, 'pets_shop'),\n(92, 'equipamentos_escritorio');",
      "metadata": {
        "trusted": true
      },
      "outputs": [],
      "execution_count": 56
    },
    {
      "cell_type": "code",
      "source": "CREATE TABLE cidades (\n  `id_cidade` INT NOT NULL,\n  `nome` VARCHAR(45) NULL,\n  `estado` VARCHAR(2) NULL,\n  PRIMARY KEY (`id_cidade`));\n",
      "metadata": {
        "trusted": true
      },
      "outputs": [],
      "execution_count": 57
    },
    {
      "cell_type": "code",
      "source": "INSERT INTO cidades values\n(35,'São Paulo','SP'),\n(31,'Minas Gerais','MG'),\n(42,'Santa Catarina','SC'),\n(29,'Bahia','BH'),\n(23,'Ceará','CE'),\n(53,'Distrito Federal','DF'),\n(32,'Espírito Santo','ES'),\n(52,'Goiás','GO'),\n(21,'Maranhão','MA'),\n(51,'Mato Grosso','MT'),\n(13,'Amazonas','AM');",
      "metadata": {
        "trusted": true
      },
      "outputs": [],
      "execution_count": 58
    },
    {
      "cell_type": "code",
      "source": "select\ncat.nome,\nsum(pd.quantidade * pd.preço_unitário) as 'total',\nsum(pd.quantidade) as 'qtde'\nfrom pedidos as item\ninner join itens_pedido as pd on item.id_pedido = pd.id_pedido\ninner join produtos as prod on pd.id_produto = prod.id_produto\ninner join categorias as cat on prod.categoria = cat.id_categoria\n\ngroup by\ncat.nome\nhaving sum(pd.quantidade) >=5;",
      "metadata": {
        "trusted": true
      },
      "outputs": [
        {
          "execution_count": 64,
          "output_type": "execute_result",
          "data": {
            "text/html": "<table>\n<tr>\n<th>nome</th>\n<th>total</th>\n<th>qtde</th>\n</tr>\n<tr>\n<td>alimentos_bebidas</td>\n<td>31012.89</td>\n<td>99</td>\n</tr>\n<tr>\n<td>casa_decoracao</td>\n<td>20365.58</td>\n<td>75</td>\n</tr>\n<tr>\n<td>equipamentos_escritorio</td>\n<td>20473.03</td>\n<td>66</td>\n</tr>\n<tr>\n<td>midia</td>\n<td>11502.08</td>\n<td>45</td>\n</tr>\n<tr>\n<td>perfumaria_cosmeticos</td>\n<td>40318.37</td>\n<td>144</td>\n</tr>\n<tr>\n<td>pets_shop</td>\n<td>39247.42</td>\n<td>127</td>\n</tr>\n<tr>\n<td>saude_bem-estar</td>\n<td>7639.11</td>\n<td>26</td>\n</tr>\n<tr>\n<td>utensilios_domesticos</td>\n<td>17434.38</td>\n<td>49</td>\n</tr>\n</table>",
            "text/plain": "+-------------------------+----------+------+\n| nome                    | total    | qtde |\n+-------------------------+----------+------+\n| alimentos_bebidas       | 31012.89 | 99   |\n+-------------------------+----------+------+\n| casa_decoracao          | 20365.58 | 75   |\n+-------------------------+----------+------+\n| equipamentos_escritorio | 20473.03 | 66   |\n+-------------------------+----------+------+\n| midia                   | 11502.08 | 45   |\n+-------------------------+----------+------+\n| perfumaria_cosmeticos   | 40318.37 | 144  |\n+-------------------------+----------+------+\n| pets_shop               | 39247.42 | 127  |\n+-------------------------+----------+------+\n| saude_bem-estar         | 7639.11  | 26   |\n+-------------------------+----------+------+\n| utensilios_domesticos   | 17434.38 | 49   |\n+-------------------------+----------+------+"
          },
          "metadata": {}
        }
      ],
      "execution_count": 64
    },
    {
      "cell_type": "code",
      "source": "select\ncli.nome,\ncat.nome,\ncount(item.id_pedido) as 'qtde_categoria',\nsum(pd.quantidade * pd.preço_unitário) as 'total',\nsum(pd.quantidade) as 'qtde'\nfrom pedidos as item\nleft join itens_pedido as pd on item.id_pedido = pd.id_pedido\nleft join produtos as prod on pd.id_produto = prod.id_produto\nleft join categorias as cat on prod.categoria = cat.id_categoria\nleft join clientes as cli on item.id_cliente = cli.id_cliente\nwhere item.data_pedido between '2020-07-01'and '2024-01-01';\ngroup by\ncat.nome\nhaving sum(pd.quantidade) >=5 and count(item.id_pedido)>=5\norder by\ncli.nome asc;",
      "metadata": {
        "trusted": true
      },
      "outputs": [
        {
          "execution_count": 144,
          "output_type": "execute_result",
          "data": {
            "text/html": "<table>\n<tr>\n<th>nome</th>\n<th>nome</th>\n<th>qtde_categoria</th>\n<th>total</th>\n<th>qtde</th>\n</tr>\n<tr>\n<td></td>\n<td>alimentos_bebidas</td>\n<td>152</td>\n<td>176516.11</td>\n<td>601</td>\n</tr>\n</table>",
            "text/plain": "+------+-------------------+----------------+-----------+------+\n| nome | nome              | qtde_categoria | total     | qtde |\n+------+-------------------+----------------+-----------+------+\n|      | alimentos_bebidas | 152            | 176516.11 | 601  |\n+------+-------------------+----------------+-----------+------+"
          },
          "metadata": {}
        }
      ],
      "execution_count": 144
    },
    {
      "cell_type": "code",
      "source": "select\ncat.nome,\ncount(cli.id_cliente) as 'Clientes_categoria',\nsum(item.total_pedido) as 'Qtde_total'\nfrom pedidos as item\nleft join itens_pedido as pd on item.id_pedido = pd.id_pedido\nleft join produtos as prod on pd.id_produto = prod.id_produto\nleft join categorias as cat on prod.categoria = cat.id_categoria\nleft join clientes as cli on item.id_cliente = cli.id_cliente\nwhere item.data_pedido >= 2000-11-01\ngroup by\ncat.nome",
      "metadata": {
        "trusted": true
      },
      "outputs": [
        {
          "execution_count": 174,
          "output_type": "execute_result",
          "data": {
            "text/html": "<table>\n<tr>\n<th>nome</th>\n<th>Clientes_categoria</th>\n<th>Qtde_total</th>\n</tr>\n<tr>\n<td></td>\n<td>0</td>\n<td>13</td>\n</tr>\n<tr>\n<td>alimentos_bebidas</td>\n<td>0</td>\n<td>223</td>\n</tr>\n<tr>\n<td>casa_decoracao</td>\n<td>0</td>\n<td>153</td>\n</tr>\n<tr>\n<td>equipamentos_escritorio</td>\n<td>0</td>\n<td>80</td>\n</tr>\n<tr>\n<td>midia</td>\n<td>0</td>\n<td>94</td>\n</tr>\n<tr>\n<td>perfumaria_cosmeticos</td>\n<td>0</td>\n<td>269</td>\n</tr>\n<tr>\n<td>pets_shop</td>\n<td>0</td>\n<td>193</td>\n</tr>\n<tr>\n<td>saude_bem-estar</td>\n<td>0</td>\n<td>89</td>\n</tr>\n<tr>\n<td>utensilios_domesticos</td>\n<td>0</td>\n<td>96</td>\n</tr>\n</table>",
            "text/plain": "+-------------------------+--------------------+------------+\n| nome                    | Clientes_categoria | Qtde_total |\n+-------------------------+--------------------+------------+\n|                         | 0                  | 13         |\n+-------------------------+--------------------+------------+\n| alimentos_bebidas       | 0                  | 223        |\n+-------------------------+--------------------+------------+\n| casa_decoracao          | 0                  | 153        |\n+-------------------------+--------------------+------------+\n| equipamentos_escritorio | 0                  | 80         |\n+-------------------------+--------------------+------------+\n| midia                   | 0                  | 94         |\n+-------------------------+--------------------+------------+\n| perfumaria_cosmeticos   | 0                  | 269        |\n+-------------------------+--------------------+------------+\n| pets_shop               | 0                  | 193        |\n+-------------------------+--------------------+------------+\n| saude_bem-estar         | 0                  | 89         |\n+-------------------------+--------------------+------------+\n| utensilios_domesticos   | 0                  | 96         |\n+-------------------------+--------------------+------------+"
          },
          "metadata": {}
        }
      ],
      "execution_count": 174
    },
    {
      "cell_type": "code",
      "source": "select\nitem.data_pedido,\nstrftime('%m', item.data_pedido) as 'mes',\nsum(pd.quantidade * pd.preço_unitário) as 'total'\nfrom pedidos as item\nleft join itens_pedido as pd on item.id_pedido = pd.id_pedido\nleft join produtos as prod on pd.id_produto = prod.id_produto\nleft join categorias as cat on prod.categoria = cat.id_categoria\nleft join clientes as cli on item.id_cliente = cli.id_cliente\nwhere item.data_pedido >= '2000-01-01'\n    group by\ncat.nome,\nstrftime('%m', item.data_pedido);",
      "metadata": {
        "trusted": true
      },
      "outputs": [
        {
          "execution_count": 198,
          "output_type": "execute_result",
          "data": {
            "text/html": "<table>\n<tr>\n<th>data_pedido</th>\n<th>mes</th>\n<th>total</th>\n</tr>\n<tr>\n<td>2023-06-9</td>\n<td></td>\n<td></td>\n</tr>\n<tr>\n<td>2023-08-1</td>\n<td></td>\n<td>5616.71</td>\n</tr>\n<tr>\n<td>2023-01-28</td>\n<td>01</td>\n<td>2375.73</td>\n</tr>\n<tr>\n<td>2023-03-16</td>\n<td>03</td>\n<td>7291.38</td>\n</tr>\n<tr>\n<td>2023-05-26</td>\n<td>05</td>\n<td>316.53</td>\n</tr>\n<tr>\n<td>2022-07-11</td>\n<td>07</td>\n<td>5305.42</td>\n</tr>\n<tr>\n<td>2022-08-16</td>\n<td>08</td>\n<td>3201.55</td>\n</tr>\n<tr>\n<td>2023-09-13</td>\n<td>09</td>\n<td>1448.28</td>\n</tr>\n<tr>\n<td>2022-10-15</td>\n<td>10</td>\n<td>1945.38</td>\n</tr>\n<tr>\n<td>2023-11-27</td>\n<td>11</td>\n<td>660.32</td>\n</tr>\n<tr>\n<td>2023-12-15</td>\n<td>12</td>\n<td>2851.59</td>\n</tr>\n<tr>\n<td>2023-11-1</td>\n<td></td>\n<td>6478.97</td>\n</tr>\n<tr>\n<td>2023-02-20</td>\n<td>02</td>\n<td>887.4</td>\n</tr>\n<tr>\n<td>2023-03-16</td>\n<td>03</td>\n<td>2043.85</td>\n</tr>\n<tr>\n<td>2022-07-11</td>\n<td>07</td>\n<td>2673.21</td>\n</tr>\n<tr>\n<td>2022-08-16</td>\n<td>08</td>\n<td>2882.27</td>\n</tr>\n<tr>\n<td>2022-09-17</td>\n<td>09</td>\n<td>812.56</td>\n</tr>\n<tr>\n<td>2023-10-10</td>\n<td>10</td>\n<td>1880.09</td>\n</tr>\n<tr>\n<td>2023-11-27</td>\n<td>11</td>\n<td>628.42</td>\n</tr>\n<tr>\n<td>2023-12-15</td>\n<td>12</td>\n<td>2078.81</td>\n</tr>\n<tr>\n<td>2023-05-5</td>\n<td></td>\n<td>4670.69</td>\n</tr>\n<tr>\n<td>2023-01-30</td>\n<td>01</td>\n<td>672.7</td>\n</tr>\n<tr>\n<td>2022-07-11</td>\n<td>07</td>\n<td>5153.46</td>\n</tr>\n<tr>\n<td>2022-08-16</td>\n<td>08</td>\n<td>4797.73</td>\n</tr>\n<tr>\n<td>2023-09-13</td>\n<td>09</td>\n<td>3032.31</td>\n</tr>\n<tr>\n<td>2022-10-22</td>\n<td>10</td>\n<td>1264.06</td>\n</tr>\n<tr>\n<td>2023-11-27</td>\n<td>11</td>\n<td>882.08</td>\n</tr>\n<tr>\n<td>2023-11-1</td>\n<td></td>\n<td>2255.6</td>\n</tr>\n<tr>\n<td>2023-01-30</td>\n<td>01</td>\n<td>2528.25</td>\n</tr>\n<tr>\n<td>2023-02-23</td>\n<td>02</td>\n<td>637.74</td>\n</tr>\n<tr>\n<td>2024-03-24</td>\n<td>03</td>\n<td>1285.2</td>\n</tr>\n<tr>\n<td>2022-05-18</td>\n<td>05</td>\n<td>2930.43</td>\n</tr>\n<tr>\n<td>2023-07-14</td>\n<td>07</td>\n<td>829.26</td>\n</tr>\n<tr>\n<td>2022-08-16</td>\n<td>08</td>\n<td>114.76</td>\n</tr>\n<tr>\n<td>2023-11-14</td>\n<td>11</td>\n<td>334.44</td>\n</tr>\n<tr>\n<td>2023-12-20</td>\n<td>12</td>\n<td>586.4</td>\n</tr>\n<tr>\n<td>2023-08-1</td>\n<td></td>\n<td>16408.72</td>\n</tr>\n<tr>\n<td>2023-01-30</td>\n<td>01</td>\n<td>1286.28</td>\n</tr>\n<tr>\n<td>2023-03-16</td>\n<td>03</td>\n<td>3785.09</td>\n</tr>\n<tr>\n<td>2022-05-11</td>\n<td>05</td>\n<td>4474.81</td>\n</tr>\n<tr>\n<td>2022-07-11</td>\n<td>07</td>\n<td>3305.57</td>\n</tr>\n<tr>\n<td>2022-08-16</td>\n<td>08</td>\n<td>3922.02</td>\n</tr>\n<tr>\n<td>2023-09-13</td>\n<td>09</td>\n<td>848.86</td>\n</tr>\n<tr>\n<td>2022-10-15</td>\n<td>10</td>\n<td>4160.98</td>\n</tr>\n<tr>\n<td>2023-12-20</td>\n<td>12</td>\n<td>2126.04</td>\n</tr>\n<tr>\n<td>2023-08-1</td>\n<td></td>\n<td>14262.22</td>\n</tr>\n<tr>\n<td>2023-01-27</td>\n<td>01</td>\n<td>1486.9</td>\n</tr>\n<tr>\n<td>2023-02-23</td>\n<td>02</td>\n<td>2378.85</td>\n</tr>\n<tr>\n<td>2024-04-15</td>\n<td>04</td>\n<td>1572.56</td>\n</tr>\n<tr>\n<td>2023-05-26</td>\n<td>05</td>\n<td>3383.06</td>\n</tr>\n<tr>\n<td>2022-07-11</td>\n<td>07</td>\n<td>4331.28</td>\n</tr>\n<tr>\n<td>2022-08-16</td>\n<td>08</td>\n<td>3743.86</td>\n</tr>\n<tr>\n<td>2022-09-15</td>\n<td>09</td>\n<td>991.38</td>\n</tr>\n<tr>\n<td>2022-10-15</td>\n<td>10</td>\n<td>6054.59</td>\n</tr>\n<tr>\n<td>2023-11-27</td>\n<td>11</td>\n<td>721.52</td>\n</tr>\n<tr>\n<td>2023-12-20</td>\n<td>12</td>\n<td>321.2</td>\n</tr>\n<tr>\n<td>2023-08-1</td>\n<td></td>\n<td>1022.29</td>\n</tr>\n<tr>\n<td>2023-03-27</td>\n<td>03</td>\n<td>912.95</td>\n</tr>\n<tr>\n<td>2024-04-15</td>\n<td>04</td>\n<td>780.93</td>\n</tr>\n<tr>\n<td>2022-10-15</td>\n<td>10</td>\n<td>790.2</td>\n</tr>\n<tr>\n<td>2023-12-15</td>\n<td>12</td>\n<td>4132.74</td>\n</tr>\n<tr>\n<td>2023-08-1</td>\n<td></td>\n<td>5452.31</td>\n</tr>\n<tr>\n<td>2023-01-27</td>\n<td>01</td>\n<td>2840.57</td>\n</tr>\n<tr>\n<td>2023-02-23</td>\n<td>02</td>\n<td>664.8</td>\n</tr>\n<tr>\n<td>2024-04-15</td>\n<td>04</td>\n<td>2702.7</td>\n</tr>\n<tr>\n<td>2022-07-11</td>\n<td>07</td>\n<td>229.03</td>\n</tr>\n<tr>\n<td>2022-08-16</td>\n<td>08</td>\n<td>2643.6</td>\n</tr>\n<tr>\n<td>2022-10-25</td>\n<td>10</td>\n<td>549.12</td>\n</tr>\n<tr>\n<td>2023-11-14</td>\n<td>11</td>\n<td>2352.25</td>\n</tr>\n</table>",
            "text/plain": "+-------------+-----+----------+\n| data_pedido | mes | total    |\n+-------------+-----+----------+\n| 2023-06-9   |     |          |\n+-------------+-----+----------+\n| 2023-08-1   |     | 5616.71  |\n+-------------+-----+----------+\n| 2023-01-28  | 01  | 2375.73  |\n+-------------+-----+----------+\n| 2023-03-16  | 03  | 7291.38  |\n+-------------+-----+----------+\n| 2023-05-26  | 05  | 316.53   |\n+-------------+-----+----------+\n| 2022-07-11  | 07  | 5305.42  |\n+-------------+-----+----------+\n| 2022-08-16  | 08  | 3201.55  |\n+-------------+-----+----------+\n| 2023-09-13  | 09  | 1448.28  |\n+-------------+-----+----------+\n| 2022-10-15  | 10  | 1945.38  |\n+-------------+-----+----------+\n| 2023-11-27  | 11  | 660.32   |\n+-------------+-----+----------+\n| 2023-12-15  | 12  | 2851.59  |\n+-------------+-----+----------+\n| 2023-11-1   |     | 6478.97  |\n+-------------+-----+----------+\n| 2023-02-20  | 02  | 887.4    |\n+-------------+-----+----------+\n| 2023-03-16  | 03  | 2043.85  |\n+-------------+-----+----------+\n| 2022-07-11  | 07  | 2673.21  |\n+-------------+-----+----------+\n| 2022-08-16  | 08  | 2882.27  |\n+-------------+-----+----------+\n| 2022-09-17  | 09  | 812.56   |\n+-------------+-----+----------+\n| 2023-10-10  | 10  | 1880.09  |\n+-------------+-----+----------+\n| 2023-11-27  | 11  | 628.42   |\n+-------------+-----+----------+\n| 2023-12-15  | 12  | 2078.81  |\n+-------------+-----+----------+\n| 2023-05-5   |     | 4670.69  |\n+-------------+-----+----------+\n| 2023-01-30  | 01  | 672.7    |\n+-------------+-----+----------+\n| 2022-07-11  | 07  | 5153.46  |\n+-------------+-----+----------+\n| 2022-08-16  | 08  | 4797.73  |\n+-------------+-----+----------+\n| 2023-09-13  | 09  | 3032.31  |\n+-------------+-----+----------+\n| 2022-10-22  | 10  | 1264.06  |\n+-------------+-----+----------+\n| 2023-11-27  | 11  | 882.08   |\n+-------------+-----+----------+\n| 2023-11-1   |     | 2255.6   |\n+-------------+-----+----------+\n| 2023-01-30  | 01  | 2528.25  |\n+-------------+-----+----------+\n| 2023-02-23  | 02  | 637.74   |\n+-------------+-----+----------+\n| 2024-03-24  | 03  | 1285.2   |\n+-------------+-----+----------+\n| 2022-05-18  | 05  | 2930.43  |\n+-------------+-----+----------+\n| 2023-07-14  | 07  | 829.26   |\n+-------------+-----+----------+\n| 2022-08-16  | 08  | 114.76   |\n+-------------+-----+----------+\n| 2023-11-14  | 11  | 334.44   |\n+-------------+-----+----------+\n| 2023-12-20  | 12  | 586.4    |\n+-------------+-----+----------+\n| 2023-08-1   |     | 16408.72 |\n+-------------+-----+----------+\n| 2023-01-30  | 01  | 1286.28  |\n+-------------+-----+----------+\n| 2023-03-16  | 03  | 3785.09  |\n+-------------+-----+----------+\n| 2022-05-11  | 05  | 4474.81  |\n+-------------+-----+----------+\n| 2022-07-11  | 07  | 3305.57  |\n+-------------+-----+----------+\n| 2022-08-16  | 08  | 3922.02  |\n+-------------+-----+----------+\n| 2023-09-13  | 09  | 848.86   |\n+-------------+-----+----------+\n| 2022-10-15  | 10  | 4160.98  |\n+-------------+-----+----------+\n| 2023-12-20  | 12  | 2126.04  |\n+-------------+-----+----------+\n| 2023-08-1   |     | 14262.22 |\n+-------------+-----+----------+\n| 2023-01-27  | 01  | 1486.9   |\n+-------------+-----+----------+\n| 2023-02-23  | 02  | 2378.85  |\n+-------------+-----+----------+\n| 2024-04-15  | 04  | 1572.56  |\n+-------------+-----+----------+\n| 2023-05-26  | 05  | 3383.06  |\n+-------------+-----+----------+\n| 2022-07-11  | 07  | 4331.28  |\n+-------------+-----+----------+\n| 2022-08-16  | 08  | 3743.86  |\n+-------------+-----+----------+\n| 2022-09-15  | 09  | 991.38   |\n+-------------+-----+----------+\n| 2022-10-15  | 10  | 6054.59  |\n+-------------+-----+----------+\n| 2023-11-27  | 11  | 721.52   |\n+-------------+-----+----------+\n| 2023-12-20  | 12  | 321.2    |\n+-------------+-----+----------+\n| 2023-08-1   |     | 1022.29  |\n+-------------+-----+----------+\n| 2023-03-27  | 03  | 912.95   |\n+-------------+-----+----------+\n| 2024-04-15  | 04  | 780.93   |\n+-------------+-----+----------+\n| 2022-10-15  | 10  | 790.2    |\n+-------------+-----+----------+\n| 2023-12-15  | 12  | 4132.74  |\n+-------------+-----+----------+\n| 2023-08-1   |     | 5452.31  |\n+-------------+-----+----------+\n| 2023-01-27  | 01  | 2840.57  |\n+-------------+-----+----------+\n| 2023-02-23  | 02  | 664.8    |\n+-------------+-----+----------+\n| 2024-04-15  | 04  | 2702.7   |\n+-------------+-----+----------+\n| 2022-07-11  | 07  | 229.03   |\n+-------------+-----+----------+\n| 2022-08-16  | 08  | 2643.6   |\n+-------------+-----+----------+\n| 2022-10-25  | 10  | 549.12   |\n+-------------+-----+----------+\n| 2023-11-14  | 11  | 2352.25  |\n+-------------+-----+----------+"
          },
          "metadata": {}
        }
      ],
      "execution_count": 198
    },
    {
      "cell_type": "code",
      "source": "",
      "metadata": {
        "trusted": true
      },
      "outputs": [],
      "execution_count": null
    }
  ]
}